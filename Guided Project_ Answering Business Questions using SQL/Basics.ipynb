{
 "cells": [
  {
   "cell_type": "code",
   "execution_count": 2,
   "metadata": {
    "collapsed": false
   },
   "outputs": [],
   "source": [
    "import sqlite3\n",
    "import pandas as pd\n",
    "import numpy as np\n",
    "import matplotlib.pyplot as plt\n",
    "%matplotlib inline\n",
    "\n",
    "def run_query(q):\n",
    "    with sqlite3.connect('chinook.db') as conn:\n",
    "        return pd.read_sql(q, conn)\n",
    "    \n",
    "def run_command(c):\n",
    "    with sqlite3.connect('chinook.db') as conn:\n",
    "        conn.isolation_level = None\n",
    "        conn.execute(c)\n",
    "        \n",
    "def check_db():\n",
    "    q = \"\"\"SELECT\n",
    "    name,\n",
    "    type\n",
    "FROM sqlite_master\n",
    "WHERE type IN (\"table\",\"view\")\"\"\"\n",
    "    return run_query(q)\n",
    "    \n",
    "    "
   ]
  },
  {
   "cell_type": "code",
   "execution_count": 3,
   "metadata": {
    "collapsed": false
   },
   "outputs": [
    {
     "data": {
      "text/html": [
       "<div>\n",
       "<table border=\"1\" class=\"dataframe\">\n",
       "  <thead>\n",
       "    <tr style=\"text-align: right;\">\n",
       "      <th></th>\n",
       "      <th>name</th>\n",
       "      <th>type</th>\n",
       "    </tr>\n",
       "  </thead>\n",
       "  <tbody>\n",
       "    <tr>\n",
       "      <th>0</th>\n",
       "      <td>album</td>\n",
       "      <td>table</td>\n",
       "    </tr>\n",
       "    <tr>\n",
       "      <th>1</th>\n",
       "      <td>artist</td>\n",
       "      <td>table</td>\n",
       "    </tr>\n",
       "    <tr>\n",
       "      <th>2</th>\n",
       "      <td>customer</td>\n",
       "      <td>table</td>\n",
       "    </tr>\n",
       "    <tr>\n",
       "      <th>3</th>\n",
       "      <td>employee</td>\n",
       "      <td>table</td>\n",
       "    </tr>\n",
       "    <tr>\n",
       "      <th>4</th>\n",
       "      <td>genre</td>\n",
       "      <td>table</td>\n",
       "    </tr>\n",
       "    <tr>\n",
       "      <th>5</th>\n",
       "      <td>invoice</td>\n",
       "      <td>table</td>\n",
       "    </tr>\n",
       "    <tr>\n",
       "      <th>6</th>\n",
       "      <td>invoice_line</td>\n",
       "      <td>table</td>\n",
       "    </tr>\n",
       "    <tr>\n",
       "      <th>7</th>\n",
       "      <td>media_type</td>\n",
       "      <td>table</td>\n",
       "    </tr>\n",
       "    <tr>\n",
       "      <th>8</th>\n",
       "      <td>playlist</td>\n",
       "      <td>table</td>\n",
       "    </tr>\n",
       "    <tr>\n",
       "      <th>9</th>\n",
       "      <td>playlist_track</td>\n",
       "      <td>table</td>\n",
       "    </tr>\n",
       "    <tr>\n",
       "      <th>10</th>\n",
       "      <td>track</td>\n",
       "      <td>table</td>\n",
       "    </tr>\n",
       "  </tbody>\n",
       "</table>\n",
       "</div>"
      ],
      "text/plain": [
       "              name   type\n",
       "0            album  table\n",
       "1           artist  table\n",
       "2         customer  table\n",
       "3         employee  table\n",
       "4            genre  table\n",
       "5          invoice  table\n",
       "6     invoice_line  table\n",
       "7       media_type  table\n",
       "8         playlist  table\n",
       "9   playlist_track  table\n",
       "10           track  table"
      ]
     },
     "execution_count": 3,
     "metadata": {},
     "output_type": "execute_result"
    }
   ],
   "source": [
    "check_db()"
   ]
  },
  {
   "cell_type": "code",
   "execution_count": 4,
   "metadata": {
    "collapsed": false
   },
   "outputs": [
    {
     "data": {
      "text/html": [
       "<div>\n",
       "<table border=\"1\" class=\"dataframe\">\n",
       "  <thead>\n",
       "    <tr style=\"text-align: right;\">\n",
       "      <th></th>\n",
       "      <th>genre_id</th>\n",
       "      <th>total_sold</th>\n",
       "      <th>percentage_sold</th>\n",
       "    </tr>\n",
       "    <tr>\n",
       "      <th>genre</th>\n",
       "      <th></th>\n",
       "      <th></th>\n",
       "      <th></th>\n",
       "    </tr>\n",
       "  </thead>\n",
       "  <tbody>\n",
       "    <tr>\n",
       "      <th>Rock</th>\n",
       "      <td>1</td>\n",
       "      <td>561</td>\n",
       "      <td>0.533777</td>\n",
       "    </tr>\n",
       "    <tr>\n",
       "      <th>Alternative &amp; Punk</th>\n",
       "      <td>4</td>\n",
       "      <td>130</td>\n",
       "      <td>0.123692</td>\n",
       "    </tr>\n",
       "    <tr>\n",
       "      <th>Metal</th>\n",
       "      <td>3</td>\n",
       "      <td>124</td>\n",
       "      <td>0.117983</td>\n",
       "    </tr>\n",
       "    <tr>\n",
       "      <th>R&amp;B/Soul</th>\n",
       "      <td>14</td>\n",
       "      <td>53</td>\n",
       "      <td>0.050428</td>\n",
       "    </tr>\n",
       "    <tr>\n",
       "      <th>Blues</th>\n",
       "      <td>6</td>\n",
       "      <td>36</td>\n",
       "      <td>0.034253</td>\n",
       "    </tr>\n",
       "    <tr>\n",
       "      <th>Alternative</th>\n",
       "      <td>23</td>\n",
       "      <td>35</td>\n",
       "      <td>0.033302</td>\n",
       "    </tr>\n",
       "    <tr>\n",
       "      <th>Latin</th>\n",
       "      <td>7</td>\n",
       "      <td>22</td>\n",
       "      <td>0.020932</td>\n",
       "    </tr>\n",
       "    <tr>\n",
       "      <th>Pop</th>\n",
       "      <td>9</td>\n",
       "      <td>22</td>\n",
       "      <td>0.020932</td>\n",
       "    </tr>\n",
       "    <tr>\n",
       "      <th>Hip Hop/Rap</th>\n",
       "      <td>17</td>\n",
       "      <td>20</td>\n",
       "      <td>0.019029</td>\n",
       "    </tr>\n",
       "    <tr>\n",
       "      <th>Jazz</th>\n",
       "      <td>2</td>\n",
       "      <td>14</td>\n",
       "      <td>0.013321</td>\n",
       "    </tr>\n",
       "    <tr>\n",
       "      <th>Easy Listening</th>\n",
       "      <td>12</td>\n",
       "      <td>13</td>\n",
       "      <td>0.012369</td>\n",
       "    </tr>\n",
       "    <tr>\n",
       "      <th>Reggae</th>\n",
       "      <td>8</td>\n",
       "      <td>6</td>\n",
       "      <td>0.005709</td>\n",
       "    </tr>\n",
       "    <tr>\n",
       "      <th>Electronica/Dance</th>\n",
       "      <td>15</td>\n",
       "      <td>5</td>\n",
       "      <td>0.004757</td>\n",
       "    </tr>\n",
       "    <tr>\n",
       "      <th>Classical</th>\n",
       "      <td>24</td>\n",
       "      <td>4</td>\n",
       "      <td>0.003806</td>\n",
       "    </tr>\n",
       "    <tr>\n",
       "      <th>Heavy Metal</th>\n",
       "      <td>13</td>\n",
       "      <td>3</td>\n",
       "      <td>0.002854</td>\n",
       "    </tr>\n",
       "    <tr>\n",
       "      <th>Soundtrack</th>\n",
       "      <td>10</td>\n",
       "      <td>2</td>\n",
       "      <td>0.001903</td>\n",
       "    </tr>\n",
       "    <tr>\n",
       "      <th>TV Shows</th>\n",
       "      <td>19</td>\n",
       "      <td>1</td>\n",
       "      <td>0.000951</td>\n",
       "    </tr>\n",
       "  </tbody>\n",
       "</table>\n",
       "</div>"
      ],
      "text/plain": [
       "                    genre_id  total_sold  percentage_sold\n",
       "genre                                                    \n",
       "Rock                       1         561         0.533777\n",
       "Alternative & Punk         4         130         0.123692\n",
       "Metal                      3         124         0.117983\n",
       "R&B/Soul                  14          53         0.050428\n",
       "Blues                      6          36         0.034253\n",
       "Alternative               23          35         0.033302\n",
       "Latin                      7          22         0.020932\n",
       "Pop                        9          22         0.020932\n",
       "Hip Hop/Rap               17          20         0.019029\n",
       "Jazz                       2          14         0.013321\n",
       "Easy Listening            12          13         0.012369\n",
       "Reggae                     8           6         0.005709\n",
       "Electronica/Dance         15           5         0.004757\n",
       "Classical                 24           4         0.003806\n",
       "Heavy Metal               13           3         0.002854\n",
       "Soundtrack                10           2         0.001903\n",
       "TV Shows                  19           1         0.000951"
      ]
     },
     "execution_count": 4,
     "metadata": {},
     "output_type": "execute_result"
    }
   ],
   "source": [
    "q1=\"\"\"\n",
    "    WITH us_sales AS \n",
    "        (\n",
    "        SELECT \n",
    "            il.*\n",
    "            FROM invoice_line il\n",
    "            INNER JOIN invoice i ON i.invoice_id=il.invoice_id\n",
    "            INNER JOIN customer c ON c.customer_id=i.customer_id\n",
    "            WHERE c.country == \"USA\"\n",
    "        )\n",
    "    \n",
    "    SELECT\n",
    "        g.genre_id,\n",
    "        g.name genre,\n",
    "        SUM(us.quantity) total_sold,\n",
    "        cast(SUM(us.quantity) AS FLOAT)/\n",
    "            (SELECT COUNT(*) FROM us_sales) percentage_sold\n",
    "    FROM us_sales us\n",
    "    INNER JOIN track t ON t.track_id=us.track_id\n",
    "    INNER JOIN genre g ON g.genre_id=t.genre_id\n",
    "    GROUP BY genre\n",
    "    ORDER BY percentage_sold DESC\n",
    "    \"\"\"\n",
    "sales_by_genre = run_query(q1)\n",
    "sales_by_genre.set_index(\"genre\", inplace=True, drop=True)\n",
    "sales_by_genre\n"
   ]
  },
  {
   "cell_type": "code",
   "execution_count": 5,
   "metadata": {
    "collapsed": false
   },
   "outputs": [
    {
     "data": {
      "text/plain": [
       "<matplotlib.axes._subplots.AxesSubplot at 0x7feb4fe68ef0>"
      ]
     },
     "execution_count": 5,
     "metadata": {},
     "output_type": "execute_result"
    },
    {
     "data": {
      "image/png": "[encoded data removed]",
      "text/plain": [
       "<matplotlib.figure.Figure at 0x7feb4fe42e10>"
      ]
     },
     "metadata": {},
     "output_type": "display_data"
    }
   ],
   "source": [
    "\n",
    "sales_by_genre[\"total_sold\"].plot.barh()"
   ]
  },
  {
   "cell_type": "markdown",
   "metadata": {},
   "source": [
    "Rock is a clear leader in sales. Based on these data, of the 4 genres of the potential new artists, most likely to succeed would be:\n",
    "    Punk, Blues, Pop, and Hip Hop (in this order).\n",
    "This suggest selecting the punk, Blues, and pop albums for distribution.\n"
   ]
  },
  {
   "cell_type": "code",
   "execution_count": 11,
   "metadata": {
    "collapsed": false
   },
   "outputs": [],
   "source": [
    "\n",
    "q2 = \"\"\"\n",
    "\n",
    "    SELECT\n",
    "        e.first_name || \" \" || e.last_name name,\n",
    "        SUM(i.total) total_sales,\n",
    "        e.hire_date\n",
    "    FROM employee e\n",
    "    INNER JOIN customer c ON e.employee_id=c.support_rep_id\n",
    "    INNER JOIN invoice i ON i.customer_id=c.customer_id\n",
    "    GROUP BY 1    \n",
    "    \"\"\"\n",
    "sales_reps = run_query(q2)\n",
    "sales_reps.set_index(\"name\", inplace=True, drop=True)\n"
   ]
  },
  {
   "cell_type": "code",
   "execution_count": 12,
   "metadata": {
    "collapsed": false
   },
   "outputs": [
    {
     "data": {
      "text/html": [
       "<div>\n",
       "<table border=\"1\" class=\"dataframe\">\n",
       "  <thead>\n",
       "    <tr style=\"text-align: right;\">\n",
       "      <th></th>\n",
       "      <th>total_sales</th>\n",
       "      <th>hire_date</th>\n",
       "    </tr>\n",
       "    <tr>\n",
       "      <th>name</th>\n",
       "      <th></th>\n",
       "      <th></th>\n",
       "    </tr>\n",
       "  </thead>\n",
       "  <tbody>\n",
       "    <tr>\n",
       "      <th>Jane Peacock</th>\n",
       "      <td>1731.51</td>\n",
       "      <td>2017-04-01 00:00:00</td>\n",
       "    </tr>\n",
       "    <tr>\n",
       "      <th>Margaret Park</th>\n",
       "      <td>1584.00</td>\n",
       "      <td>2017-05-03 00:00:00</td>\n",
       "    </tr>\n",
       "    <tr>\n",
       "      <th>Steve Johnson</th>\n",
       "      <td>1393.92</td>\n",
       "      <td>2017-10-17 00:00:00</td>\n",
       "    </tr>\n",
       "  </tbody>\n",
       "</table>\n",
       "</div>"
      ],
      "text/plain": [
       "               total_sales            hire_date\n",
       "name                                           \n",
       "Jane Peacock       1731.51  2017-04-01 00:00:00\n",
       "Margaret Park      1584.00  2017-05-03 00:00:00\n",
       "Steve Johnson      1393.92  2017-10-17 00:00:00"
      ]
     },
     "execution_count": 12,
     "metadata": {},
     "output_type": "execute_result"
    }
   ],
   "source": [
    "sales_reps"
   ]
  },
  {
   "cell_type": "code",
   "execution_count": 14,
   "metadata": {
    "collapsed": false
   },
   "outputs": [
    {
     "data": {
      "text/plain": [
       "<matplotlib.axes._subplots.AxesSubplot at 0x7feb476914a8>"
      ]
     },
     "execution_count": 14,
     "metadata": {},
     "output_type": "execute_result"
    },
    {
     "data": {
      "image/png": "[encoded data removed]",
      "text/plain": [
       "<matplotlib.figure.Figure at 0x7feb4fd94cf8>"
      ]
     },
     "metadata": {},
     "output_type": "display_data"
    }
   ],
   "source": [
    "sales_reps[\"total_sales\"].plot.bar()"
   ]
  },
  {
   "cell_type": "markdown",
   "metadata": {},
   "source": [
    "The difference in sales between these sales reps seems to reflect their hire date"
   ]
  },
  {
   "cell_type": "code",
   "execution_count": 39,
   "metadata": {
    "collapsed": false
   },
   "outputs": [
    {
     "data": {
      "text/html": [
       "<div>\n",
       "<table border=\"1\" class=\"dataframe\">\n",
       "  <thead>\n",
       "    <tr style=\"text-align: right;\">\n",
       "      <th></th>\n",
       "      <th>country</th>\n",
       "      <th>total_customers</th>\n",
       "      <th>total_value_of_sales</th>\n",
       "      <th>value_per_customer</th>\n",
       "      <th>sort</th>\n",
       "    </tr>\n",
       "  </thead>\n",
       "  <tbody>\n",
       "    <tr>\n",
       "      <th>0</th>\n",
       "      <td>USA</td>\n",
       "      <td>13</td>\n",
       "      <td>86035.95</td>\n",
       "      <td>0.364115</td>\n",
       "      <td>0</td>\n",
       "    </tr>\n",
       "    <tr>\n",
       "      <th>1</th>\n",
       "      <td>Canada</td>\n",
       "      <td>8</td>\n",
       "      <td>40115.79</td>\n",
       "      <td>0.317465</td>\n",
       "      <td>0</td>\n",
       "    </tr>\n",
       "    <tr>\n",
       "      <th>2</th>\n",
       "      <td>Brazil</td>\n",
       "      <td>5</td>\n",
       "      <td>38881.26</td>\n",
       "      <td>0.802238</td>\n",
       "      <td>0</td>\n",
       "    </tr>\n",
       "    <tr>\n",
       "      <th>3</th>\n",
       "      <td>Czech Republic</td>\n",
       "      <td>2</td>\n",
       "      <td>37833.84</td>\n",
       "      <td>1.681504</td>\n",
       "      <td>0</td>\n",
       "    </tr>\n",
       "    <tr>\n",
       "      <th>4</th>\n",
       "      <td>France</td>\n",
       "      <td>5</td>\n",
       "      <td>31314.69</td>\n",
       "      <td>0.191890</td>\n",
       "      <td>0</td>\n",
       "    </tr>\n",
       "    <tr>\n",
       "      <th>5</th>\n",
       "      <td>Germany</td>\n",
       "      <td>4</td>\n",
       "      <td>28498.14</td>\n",
       "      <td>0.295808</td>\n",
       "      <td>0</td>\n",
       "    </tr>\n",
       "    <tr>\n",
       "      <th>6</th>\n",
       "      <td>United Kingdom</td>\n",
       "      <td>3</td>\n",
       "      <td>20752.38</td>\n",
       "      <td>0.165620</td>\n",
       "      <td>0</td>\n",
       "    </tr>\n",
       "    <tr>\n",
       "      <th>7</th>\n",
       "      <td>India</td>\n",
       "      <td>2</td>\n",
       "      <td>17773.47</td>\n",
       "      <td>0.149124</td>\n",
       "      <td>0</td>\n",
       "    </tr>\n",
       "    <tr>\n",
       "      <th>8</th>\n",
       "      <td>Portugal</td>\n",
       "      <td>2</td>\n",
       "      <td>17527.95</td>\n",
       "      <td>0.189598</td>\n",
       "      <td>0</td>\n",
       "    </tr>\n",
       "    <tr>\n",
       "      <th>9</th>\n",
       "      <td>Other</td>\n",
       "      <td>15</td>\n",
       "      <td>87003.18</td>\n",
       "      <td>0.184868</td>\n",
       "      <td>1</td>\n",
       "    </tr>\n",
       "  </tbody>\n",
       "</table>\n",
       "</div>"
      ],
      "text/plain": [
       "          country  total_customers  total_value_of_sales  value_per_customer  \\\n",
       "0             USA               13              86035.95            0.364115   \n",
       "1          Canada                8              40115.79            0.317465   \n",
       "2          Brazil                5              38881.26            0.802238   \n",
       "3  Czech Republic                2              37833.84            1.681504   \n",
       "4          France                5              31314.69            0.191890   \n",
       "5         Germany                4              28498.14            0.295808   \n",
       "6  United Kingdom                3              20752.38            0.165620   \n",
       "7           India                2              17773.47            0.149124   \n",
       "8        Portugal                2              17527.95            0.189598   \n",
       "9           Other               15              87003.18            0.184868   \n",
       "\n",
       "   sort  \n",
       "0     0  \n",
       "1     0  \n",
       "2     0  \n",
       "3     0  \n",
       "4     0  \n",
       "5     0  \n",
       "6     0  \n",
       "7     0  \n",
       "8     0  \n",
       "9     1  "
      ]
     },
     "execution_count": 39,
     "metadata": {},
     "output_type": "execute_result"
    }
   ],
   "source": [
    "q3 = \"\"\"\n",
    "WITH country_plus_other AS\n",
    "    (\n",
    "    SELECT\n",
    "        CASE\n",
    "            WHEN (\n",
    "                SELECT count (*) FROM customer\n",
    "                WHERE country = c.country\n",
    "                 )\n",
    "                =1 THEN \"Other\"\n",
    "            ELSE c.country\n",
    "        END AS country,\n",
    "        c.customer_id,\n",
    "        il.*\n",
    "    FROM customer c\n",
    "    INNER JOIN invoice i ON i.customer_id=c.customer_id\n",
    "    INNER JOIN invoice_line il ON il.invoice_id=i.invoice_id\n",
    "    )\n",
    "\n",
    "SELECT \n",
    "    cpo.country,\n",
    "    COUNT(DISTINCT cpo.customer_id) total_customers,\n",
    "    SUM(i.total) total_value_of_sales,\n",
    "    SUM(i.total)/\n",
    "        SUM(cpo.customer_id) value_per_customer,\n",
    "    CASE\n",
    "        WHEN cpo.country = \"Other\"\n",
    "        THEN 1\n",
    "        ELSE 0\n",
    "    END AS sort\n",
    "FROM country_plus_other cpo\n",
    "LEFT JOIN invoice i ON i.customer_id=cpo.customer_id\n",
    "GROUP BY 1\n",
    "ORDER BY sort ASC, total_value_of_sales DESC\n",
    "\"\"\"\n",
    "\n",
    "run_query(q3)\n"
   ]
  },
  {
   "cell_type": "code",
   "execution_count": null,
   "metadata": {
    "collapsed": true
   },
   "outputs": [],
   "source": []
  }
 ],
 "metadata": {
  "kernelspec": {
   "display_name": "Python 3",
   "language": "python",
   "name": "python3"
  },
  "language_info": {
   "codemirror_mode": {
    "name": "ipython",
    "version": 3
   },
   "file_extension": ".py",
   "mimetype": "text/x-python",
   "name": "python",
   "nbconvert_exporter": "python",
   "pygments_lexer": "ipython3",
   "version": "3.4.3"
  }
 },
 "nbformat": 4,
 "nbformat_minor": 2
}
