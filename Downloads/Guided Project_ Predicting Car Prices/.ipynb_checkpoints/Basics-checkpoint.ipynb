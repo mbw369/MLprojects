{
 "cells": [
  {
   "cell_type": "code",
   "execution_count": 34,
   "metadata": {
    "collapsed": false
   },
   "outputs": [],
   "source": [
    "import pandas as pd\n",
    "import numpy as np\n",
    "\n",
    "columns = ['symboling', 'normalized-losses', 'make', 'fuel-type', \n",
    "        'aspiration', 'num-of-doors', 'body-style', \n",
    "        'drive-wheels', 'engine-location', 'wheel-base', \n",
    "        'length', 'width', 'height', 'curb-weight', 'engine-type', \n",
    "        'num-of-cylinders', 'engine-size', 'fuel-system', 'bore', \n",
    "        'stroke', 'compression-rate', 'horsepower', 'peak-rpm', \n",
    "        'city-mpg', 'highway-mpg', 'price']\n",
    "cars = pd.read_csv(\"imports-85.data\", header=0, names=columns)\n",
    "\n"
   ]
  },
  {
   "cell_type": "code",
   "execution_count": 35,
   "metadata": {
    "collapsed": false
   },
   "outputs": [],
   "source": [
    "cars = cars.replace(\"?\", np.nan)\n"
   ]
  },
  {
   "cell_type": "code",
   "execution_count": 40,
   "metadata": {
    "collapsed": false
   },
   "outputs": [],
   "source": [
    "cars = cars[['wheel-base', 'length', \n",
    "                   'width', 'height', 'curb-weight', 'bore', \n",
    "                   'stroke', 'compression-rate', 'horsepower', \n",
    "                   'peak-rpm', 'city-mpg', 'highway-mpg', 'price']]\n",
    "cars_nums = cars.astype(float)"
   ]
  },
  {
   "cell_type": "code",
   "execution_count": 41,
   "metadata": {
    "collapsed": false
   },
   "outputs": [],
   "source": [
    "cars_nums = cars_nums[cars_nums['price'].notnull()]"
   ]
  },
  {
   "cell_type": "code",
   "execution_count": 42,
   "metadata": {
    "collapsed": false
   },
   "outputs": [
    {
     "name": "stdout",
     "output_type": "stream",
     "text": [
      "<class 'pandas.core.frame.DataFrame'>\n",
      "Int64Index: 200 entries, 0 to 203\n",
      "Data columns (total 13 columns):\n",
      "wheel-base          200 non-null float64\n",
      "length              200 non-null float64\n",
      "width               200 non-null float64\n",
      "height              200 non-null float64\n",
      "curb-weight         200 non-null float64\n",
      "bore                196 non-null float64\n",
      "stroke              196 non-null float64\n",
      "compression-rate    200 non-null float64\n",
      "horsepower          198 non-null float64\n",
      "peak-rpm            198 non-null float64\n",
      "city-mpg            200 non-null float64\n",
      "highway-mpg         200 non-null float64\n",
      "price               200 non-null float64\n",
      "dtypes: float64(13)\n",
      "memory usage: 21.9 KB\n"
     ]
    }
   ],
   "source": [
    "cars_nums.info()"
   ]
  },
  {
   "cell_type": "code",
   "execution_count": 46,
   "metadata": {
    "collapsed": false
   },
   "outputs": [],
   "source": [
    "cols_convert = ['bore', 'stroke', 'horsepower', 'peak-rpm']\n",
    "for col in cols_convert:\n",
    "    cars_nums[col] = cars_nums[col].fillna(cars_nums[col].mean())\n"
   ]
  },
  {
   "cell_type": "raw",
   "metadata": {},
   "source": []
  },
  {
   "cell_type": "code",
   "execution_count": null,
   "metadata": {
    "collapsed": true
   },
   "outputs": [],
   "source": []
  }
 ],
 "metadata": {
  "kernelspec": {
   "display_name": "Python 3",
   "language": "python",
   "name": "python3"
  },
  "language_info": {
   "codemirror_mode": {
    "name": "ipython",
    "version": 3
   },
   "file_extension": ".py",
   "mimetype": "text/x-python",
   "name": "python",
   "nbconvert_exporter": "python",
   "pygments_lexer": "ipython3",
   "version": "3.4.3"
  }
 },
 "nbformat": 4,
 "nbformat_minor": 2
}
